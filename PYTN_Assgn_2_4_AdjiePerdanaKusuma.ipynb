{
 "cells": [
  {
   "attachments": {},
   "cell_type": "markdown",
   "metadata": {},
   "source": [
    "# Assignment 2\n",
    "\n",
    "Pada tugas ini, digunakan dataset NYC Property Sales yang berisi data tentang penjualan properti di New York City (NYC). Dataset ini dikumpulkan oleh Departemen Pajak dan Keuangan NYC sebagai bagian dari program Open Data NYC, yang bertujuan untuk meningkatkan transparansi dan akuntabilitas pemerintah kota. Data ini diperbarui setiap bulan dan mencakup penjualan properti yang terjadi selama 12 bulan terakhir. Dataset ini terdiri dari beberapa variabel, yaitu:\n",
    "\n",
    "1. Unnamed: Variabel ini tidak memberikan informasi penting dalam dataset dan hanya merupakan satu kolom tanpa nama.\n",
    "2. Borough: Merupakan distrik atau wilayah di NYC tempat properti terletak.\n",
    "3. Neighborhood: Nama lingkungan atau daerah di mana properti terletak.\n",
    "4. Building Class Category: Kategori kelas bangunan properti seperti apartemen, gedung perkantoran, dan toko.\n",
    "5. Tax Class At Present: Kategori pajak properti saat ini seperti pajak perumahan dan pajak komersial.\n",
    "6. Block: Nomor blok tempat properti berada.\n",
    "7. Lot: Nomor lot atau nomor unit properti tersebut.\n",
    "8. Easement: Informasi tentang adanya hak penggunaan properti oleh pihak ketiga.\n",
    "9. Building Class At Present: Kategori kelas bangunan properti saat ini.\n",
    "10. Address: Alamat lengkap properti.\n",
    "11. Apartment Number: Nomor unit properti jika ada.\n",
    "12. Zip Code: Kode pos alamat properti.\n",
    "13. Residential Units: Jumlah unit tempat tinggal di dalam properti.\n",
    "14. Commercial Units: Jumlah unit komersial di dalam properti.\n",
    "15. Total Units: Total jumlah unit di dalam properti.\n",
    "16. Land Square Feet: Luas tanah properti dalam kaki persegi.\n",
    "17. Gross Square Feet: Luas total bangunan dalam kaki persegi.\n",
    "18. Year Built: Tahun bangunan dibangun.\n",
    "19. Tax Class At Time Of Sale: Kategori pajak properti pada saat penjualan.\n",
    "20. Building Class At Time Of Sale: Kategori kelas bangunan pada saat penjualan.\n",
    "21. Sale Price: Harga jual properti.\n",
    "22. Sale Date: Tanggal penjualan properti."
   ]
  },
  {
   "attachments": {},
   "cell_type": "markdown",
   "metadata": {},
   "source": [
    "### Import Library"
   ]
  },
  {
   "attachments": {},
   "cell_type": "markdown",
   "metadata": {},
   "source": [
    "Berikut library yang akan diimport sesuai kebutuhan"
   ]
  },
  {
   "cell_type": "code",
   "execution_count": 99,
   "metadata": {},
   "outputs": [],
   "source": [
    "import numpy as np\n",
    "import scipy.stats\n",
    "import pandas as pd\n",
    "\n",
    "%matplotlib inline\n",
    "\n",
    "import matplotlib as mpl\n",
    "import matplotlib.pyplot as plt\n",
    "\n",
    "import seaborn as sns\n",
    "\n",
    "import statsmodels.api as sm"
   ]
  },
  {
   "attachments": {},
   "cell_type": "markdown",
   "metadata": {},
   "source": [
    "### Read Data Set"
   ]
  },
  {
   "attachments": {},
   "cell_type": "markdown",
   "metadata": {},
   "source": [
    "Membaca data set menggunakan library pandas"
   ]
  },
  {
   "cell_type": "code",
   "execution_count": 100,
   "metadata": {},
   "outputs": [],
   "source": [
    "nyc = pd.read_csv('nyc-rolling-sales.csv')"
   ]
  },
  {
   "attachments": {},
   "cell_type": "markdown",
   "metadata": {},
   "source": [
    "### Menampilkan head dan tail"
   ]
  },
  {
   "attachments": {},
   "cell_type": "markdown",
   "metadata": {},
   "source": [
    "Menampilkan beberapa data teratas dan terbawah menurut tabel"
   ]
  },
  {
   "cell_type": "code",
   "execution_count": 101,
   "metadata": {},
   "outputs": [],
   "source": [
    "# Untuk menampilkan semua kolom pada tabel\n",
    "pd.set_option('display.max_columns',None)"
   ]
  },
  {
   "cell_type": "code",
   "execution_count": 102,
   "metadata": {},
   "outputs": [
    {
     "data": {
      "text/html": [
       "<div>\n",
       "<style scoped>\n",
       "    .dataframe tbody tr th:only-of-type {\n",
       "        vertical-align: middle;\n",
       "    }\n",
       "\n",
       "    .dataframe tbody tr th {\n",
       "        vertical-align: top;\n",
       "    }\n",
       "\n",
       "    .dataframe thead th {\n",
       "        text-align: right;\n",
       "    }\n",
       "</style>\n",
       "<table border=\"1\" class=\"dataframe\">\n",
       "  <thead>\n",
       "    <tr style=\"text-align: right;\">\n",
       "      <th></th>\n",
       "      <th>Unnamed: 0</th>\n",
       "      <th>BOROUGH</th>\n",
       "      <th>NEIGHBORHOOD</th>\n",
       "      <th>BUILDING CLASS CATEGORY</th>\n",
       "      <th>TAX CLASS AT PRESENT</th>\n",
       "      <th>BLOCK</th>\n",
       "      <th>LOT</th>\n",
       "      <th>EASE-MENT</th>\n",
       "      <th>BUILDING CLASS AT PRESENT</th>\n",
       "      <th>ADDRESS</th>\n",
       "      <th>APARTMENT NUMBER</th>\n",
       "      <th>ZIP CODE</th>\n",
       "      <th>RESIDENTIAL UNITS</th>\n",
       "      <th>COMMERCIAL UNITS</th>\n",
       "      <th>TOTAL UNITS</th>\n",
       "      <th>LAND SQUARE FEET</th>\n",
       "      <th>GROSS SQUARE FEET</th>\n",
       "      <th>YEAR BUILT</th>\n",
       "      <th>TAX CLASS AT TIME OF SALE</th>\n",
       "      <th>BUILDING CLASS AT TIME OF SALE</th>\n",
       "      <th>SALE PRICE</th>\n",
       "      <th>SALE DATE</th>\n",
       "    </tr>\n",
       "  </thead>\n",
       "  <tbody>\n",
       "    <tr>\n",
       "      <th>0</th>\n",
       "      <td>4</td>\n",
       "      <td>1</td>\n",
       "      <td>ALPHABET CITY</td>\n",
       "      <td>07 RENTALS - WALKUP APARTMENTS</td>\n",
       "      <td>2A</td>\n",
       "      <td>392</td>\n",
       "      <td>6</td>\n",
       "      <td></td>\n",
       "      <td>C2</td>\n",
       "      <td>153 AVENUE B</td>\n",
       "      <td></td>\n",
       "      <td>10009</td>\n",
       "      <td>5</td>\n",
       "      <td>0</td>\n",
       "      <td>5</td>\n",
       "      <td>1633</td>\n",
       "      <td>6440</td>\n",
       "      <td>1900</td>\n",
       "      <td>2</td>\n",
       "      <td>C2</td>\n",
       "      <td>6625000</td>\n",
       "      <td>2017-07-19 00:00:00</td>\n",
       "    </tr>\n",
       "    <tr>\n",
       "      <th>1</th>\n",
       "      <td>5</td>\n",
       "      <td>1</td>\n",
       "      <td>ALPHABET CITY</td>\n",
       "      <td>07 RENTALS - WALKUP APARTMENTS</td>\n",
       "      <td>2</td>\n",
       "      <td>399</td>\n",
       "      <td>26</td>\n",
       "      <td></td>\n",
       "      <td>C7</td>\n",
       "      <td>234 EAST 4TH   STREET</td>\n",
       "      <td></td>\n",
       "      <td>10009</td>\n",
       "      <td>28</td>\n",
       "      <td>3</td>\n",
       "      <td>31</td>\n",
       "      <td>4616</td>\n",
       "      <td>18690</td>\n",
       "      <td>1900</td>\n",
       "      <td>2</td>\n",
       "      <td>C7</td>\n",
       "      <td>-</td>\n",
       "      <td>2016-12-14 00:00:00</td>\n",
       "    </tr>\n",
       "    <tr>\n",
       "      <th>2</th>\n",
       "      <td>6</td>\n",
       "      <td>1</td>\n",
       "      <td>ALPHABET CITY</td>\n",
       "      <td>07 RENTALS - WALKUP APARTMENTS</td>\n",
       "      <td>2</td>\n",
       "      <td>399</td>\n",
       "      <td>39</td>\n",
       "      <td></td>\n",
       "      <td>C7</td>\n",
       "      <td>197 EAST 3RD   STREET</td>\n",
       "      <td></td>\n",
       "      <td>10009</td>\n",
       "      <td>16</td>\n",
       "      <td>1</td>\n",
       "      <td>17</td>\n",
       "      <td>2212</td>\n",
       "      <td>7803</td>\n",
       "      <td>1900</td>\n",
       "      <td>2</td>\n",
       "      <td>C7</td>\n",
       "      <td>-</td>\n",
       "      <td>2016-12-09 00:00:00</td>\n",
       "    </tr>\n",
       "  </tbody>\n",
       "</table>\n",
       "</div>"
      ],
      "text/plain": [
       "   Unnamed: 0  BOROUGH   NEIGHBORHOOD  \\\n",
       "0           4        1  ALPHABET CITY   \n",
       "1           5        1  ALPHABET CITY   \n",
       "2           6        1  ALPHABET CITY   \n",
       "\n",
       "                       BUILDING CLASS CATEGORY TAX CLASS AT PRESENT  BLOCK  \\\n",
       "0  07 RENTALS - WALKUP APARTMENTS                                2A    392   \n",
       "1  07 RENTALS - WALKUP APARTMENTS                                 2    399   \n",
       "2  07 RENTALS - WALKUP APARTMENTS                                 2    399   \n",
       "\n",
       "   LOT EASE-MENT BUILDING CLASS AT PRESENT                ADDRESS  \\\n",
       "0    6                                  C2           153 AVENUE B   \n",
       "1   26                                  C7  234 EAST 4TH   STREET   \n",
       "2   39                                  C7  197 EAST 3RD   STREET   \n",
       "\n",
       "  APARTMENT NUMBER  ZIP CODE  RESIDENTIAL UNITS  COMMERCIAL UNITS  \\\n",
       "0                      10009                  5                 0   \n",
       "1                      10009                 28                 3   \n",
       "2                      10009                 16                 1   \n",
       "\n",
       "   TOTAL UNITS LAND SQUARE FEET GROSS SQUARE FEET  YEAR BUILT  \\\n",
       "0            5             1633              6440        1900   \n",
       "1           31             4616             18690        1900   \n",
       "2           17             2212              7803        1900   \n",
       "\n",
       "   TAX CLASS AT TIME OF SALE BUILDING CLASS AT TIME OF SALE SALE PRICE  \\\n",
       "0                          2                             C2    6625000   \n",
       "1                          2                             C7        -     \n",
       "2                          2                             C7        -     \n",
       "\n",
       "             SALE DATE  \n",
       "0  2017-07-19 00:00:00  \n",
       "1  2016-12-14 00:00:00  \n",
       "2  2016-12-09 00:00:00  "
      ]
     },
     "execution_count": 102,
     "metadata": {},
     "output_type": "execute_result"
    }
   ],
   "source": [
    "nyc.head(3)"
   ]
  },
  {
   "cell_type": "code",
   "execution_count": 103,
   "metadata": {},
   "outputs": [
    {
     "data": {
      "text/html": [
       "<div>\n",
       "<style scoped>\n",
       "    .dataframe tbody tr th:only-of-type {\n",
       "        vertical-align: middle;\n",
       "    }\n",
       "\n",
       "    .dataframe tbody tr th {\n",
       "        vertical-align: top;\n",
       "    }\n",
       "\n",
       "    .dataframe thead th {\n",
       "        text-align: right;\n",
       "    }\n",
       "</style>\n",
       "<table border=\"1\" class=\"dataframe\">\n",
       "  <thead>\n",
       "    <tr style=\"text-align: right;\">\n",
       "      <th></th>\n",
       "      <th>Unnamed: 0</th>\n",
       "      <th>BOROUGH</th>\n",
       "      <th>NEIGHBORHOOD</th>\n",
       "      <th>BUILDING CLASS CATEGORY</th>\n",
       "      <th>TAX CLASS AT PRESENT</th>\n",
       "      <th>BLOCK</th>\n",
       "      <th>LOT</th>\n",
       "      <th>EASE-MENT</th>\n",
       "      <th>BUILDING CLASS AT PRESENT</th>\n",
       "      <th>ADDRESS</th>\n",
       "      <th>APARTMENT NUMBER</th>\n",
       "      <th>ZIP CODE</th>\n",
       "      <th>RESIDENTIAL UNITS</th>\n",
       "      <th>COMMERCIAL UNITS</th>\n",
       "      <th>TOTAL UNITS</th>\n",
       "      <th>LAND SQUARE FEET</th>\n",
       "      <th>GROSS SQUARE FEET</th>\n",
       "      <th>YEAR BUILT</th>\n",
       "      <th>TAX CLASS AT TIME OF SALE</th>\n",
       "      <th>BUILDING CLASS AT TIME OF SALE</th>\n",
       "      <th>SALE PRICE</th>\n",
       "      <th>SALE DATE</th>\n",
       "    </tr>\n",
       "  </thead>\n",
       "  <tbody>\n",
       "    <tr>\n",
       "      <th>84545</th>\n",
       "      <td>8411</td>\n",
       "      <td>5</td>\n",
       "      <td>WOODROW</td>\n",
       "      <td>02 TWO FAMILY DWELLINGS</td>\n",
       "      <td>1</td>\n",
       "      <td>7351</td>\n",
       "      <td>60</td>\n",
       "      <td></td>\n",
       "      <td>B2</td>\n",
       "      <td>49 PITNEY AVENUE</td>\n",
       "      <td></td>\n",
       "      <td>10309</td>\n",
       "      <td>2</td>\n",
       "      <td>0</td>\n",
       "      <td>2</td>\n",
       "      <td>4000</td>\n",
       "      <td>1496</td>\n",
       "      <td>1925</td>\n",
       "      <td>1</td>\n",
       "      <td>B2</td>\n",
       "      <td>460000</td>\n",
       "      <td>2017-07-05 00:00:00</td>\n",
       "    </tr>\n",
       "    <tr>\n",
       "      <th>84546</th>\n",
       "      <td>8412</td>\n",
       "      <td>5</td>\n",
       "      <td>WOODROW</td>\n",
       "      <td>22 STORE BUILDINGS</td>\n",
       "      <td>4</td>\n",
       "      <td>7100</td>\n",
       "      <td>28</td>\n",
       "      <td></td>\n",
       "      <td>K6</td>\n",
       "      <td>2730 ARTHUR KILL ROAD</td>\n",
       "      <td></td>\n",
       "      <td>10309</td>\n",
       "      <td>0</td>\n",
       "      <td>7</td>\n",
       "      <td>7</td>\n",
       "      <td>208033</td>\n",
       "      <td>64117</td>\n",
       "      <td>2001</td>\n",
       "      <td>4</td>\n",
       "      <td>K6</td>\n",
       "      <td>11693337</td>\n",
       "      <td>2016-12-21 00:00:00</td>\n",
       "    </tr>\n",
       "    <tr>\n",
       "      <th>84547</th>\n",
       "      <td>8413</td>\n",
       "      <td>5</td>\n",
       "      <td>WOODROW</td>\n",
       "      <td>35 INDOOR PUBLIC AND CULTURAL FACILITIES</td>\n",
       "      <td>4</td>\n",
       "      <td>7105</td>\n",
       "      <td>679</td>\n",
       "      <td></td>\n",
       "      <td>P9</td>\n",
       "      <td>155 CLAY PIT ROAD</td>\n",
       "      <td></td>\n",
       "      <td>10309</td>\n",
       "      <td>0</td>\n",
       "      <td>1</td>\n",
       "      <td>1</td>\n",
       "      <td>10796</td>\n",
       "      <td>2400</td>\n",
       "      <td>2006</td>\n",
       "      <td>4</td>\n",
       "      <td>P9</td>\n",
       "      <td>69300</td>\n",
       "      <td>2016-10-27 00:00:00</td>\n",
       "    </tr>\n",
       "  </tbody>\n",
       "</table>\n",
       "</div>"
      ],
      "text/plain": [
       "       Unnamed: 0  BOROUGH NEIGHBORHOOD  \\\n",
       "84545        8411        5      WOODROW   \n",
       "84546        8412        5      WOODROW   \n",
       "84547        8413        5      WOODROW   \n",
       "\n",
       "                           BUILDING CLASS CATEGORY TAX CLASS AT PRESENT  \\\n",
       "84545  02 TWO FAMILY DWELLINGS                                        1   \n",
       "84546  22 STORE BUILDINGS                                             4   \n",
       "84547  35 INDOOR PUBLIC AND CULTURAL FACILITIES                       4   \n",
       "\n",
       "       BLOCK  LOT EASE-MENT BUILDING CLASS AT PRESENT                ADDRESS  \\\n",
       "84545   7351   60                                  B2       49 PITNEY AVENUE   \n",
       "84546   7100   28                                  K6  2730 ARTHUR KILL ROAD   \n",
       "84547   7105  679                                  P9      155 CLAY PIT ROAD   \n",
       "\n",
       "      APARTMENT NUMBER  ZIP CODE  RESIDENTIAL UNITS  COMMERCIAL UNITS  \\\n",
       "84545                      10309                  2                 0   \n",
       "84546                      10309                  0                 7   \n",
       "84547                      10309                  0                 1   \n",
       "\n",
       "       TOTAL UNITS LAND SQUARE FEET GROSS SQUARE FEET  YEAR BUILT  \\\n",
       "84545            2             4000              1496        1925   \n",
       "84546            7           208033             64117        2001   \n",
       "84547            1            10796              2400        2006   \n",
       "\n",
       "       TAX CLASS AT TIME OF SALE BUILDING CLASS AT TIME OF SALE SALE PRICE  \\\n",
       "84545                          1                             B2     460000   \n",
       "84546                          4                             K6   11693337   \n",
       "84547                          4                             P9      69300   \n",
       "\n",
       "                 SALE DATE  \n",
       "84545  2017-07-05 00:00:00  \n",
       "84546  2016-12-21 00:00:00  \n",
       "84547  2016-10-27 00:00:00  "
      ]
     },
     "execution_count": 103,
     "metadata": {},
     "output_type": "execute_result"
    }
   ],
   "source": [
    "nyc.tail(3)"
   ]
  },
  {
   "attachments": {},
   "cell_type": "markdown",
   "metadata": {},
   "source": [
    "### Menghapus kolom yang tidak diperlukan\n",
    "Saya menghapus tiga kolom yaitu 'Unnamed: 0','EASE-MENT','APARTMENT NUMBER'."
   ]
  },
  {
   "cell_type": "code",
   "execution_count": 104,
   "metadata": {},
   "outputs": [],
   "source": [
    "nyc.drop(columns=['Unnamed: 0','EASE-MENT','APARTMENT NUMBER'], axis=1, inplace=True)"
   ]
  },
  {
   "attachments": {},
   "cell_type": "markdown",
   "metadata": {},
   "source": [
    "### Mengecek nilai Null"
   ]
  },
  {
   "cell_type": "code",
   "execution_count": 105,
   "metadata": {},
   "outputs": [
    {
     "data": {
      "text/plain": [
       "BOROUGH                           0\n",
       "NEIGHBORHOOD                      0\n",
       "BUILDING CLASS CATEGORY           0\n",
       "TAX CLASS AT PRESENT              0\n",
       "BLOCK                             0\n",
       "LOT                               0\n",
       "BUILDING CLASS AT PRESENT         0\n",
       "ADDRESS                           0\n",
       "ZIP CODE                          0\n",
       "RESIDENTIAL UNITS                 0\n",
       "COMMERCIAL UNITS                  0\n",
       "TOTAL UNITS                       0\n",
       "LAND SQUARE FEET                  0\n",
       "GROSS SQUARE FEET                 0\n",
       "YEAR BUILT                        0\n",
       "TAX CLASS AT TIME OF SALE         0\n",
       "BUILDING CLASS AT TIME OF SALE    0\n",
       "SALE PRICE                        0\n",
       "SALE DATE                         0\n",
       "dtype: int64"
      ]
     },
     "execution_count": 105,
     "metadata": {},
     "output_type": "execute_result"
    }
   ],
   "source": [
    "nyc.isnull().sum()"
   ]
  },
  {
   "attachments": {},
   "cell_type": "markdown",
   "metadata": {},
   "source": [
    "Untuk sementara waktu tidak ditemukan nya nilai Null tetapi bisa kita cek kembali nilai null yang digantikan dengan nilai lain."
   ]
  },
  {
   "cell_type": "code",
   "execution_count": 106,
   "metadata": {},
   "outputs": [
    {
     "data": {
      "text/html": [
       "<div>\n",
       "<style scoped>\n",
       "    .dataframe tbody tr th:only-of-type {\n",
       "        vertical-align: middle;\n",
       "    }\n",
       "\n",
       "    .dataframe tbody tr th {\n",
       "        vertical-align: top;\n",
       "    }\n",
       "\n",
       "    .dataframe thead th {\n",
       "        text-align: right;\n",
       "    }\n",
       "</style>\n",
       "<table border=\"1\" class=\"dataframe\">\n",
       "  <thead>\n",
       "    <tr style=\"text-align: right;\">\n",
       "      <th></th>\n",
       "      <th>BOROUGH</th>\n",
       "      <th>TOTAL UNITS</th>\n",
       "      <th>YEAR BUILT</th>\n",
       "      <th>TAX CLASS AT TIME OF SALE</th>\n",
       "      <th>SALE PRICE</th>\n",
       "      <th>LOT</th>\n",
       "    </tr>\n",
       "  </thead>\n",
       "  <tbody>\n",
       "    <tr>\n",
       "      <th>0</th>\n",
       "      <td>1</td>\n",
       "      <td>5</td>\n",
       "      <td>1900</td>\n",
       "      <td>2</td>\n",
       "      <td>6625000</td>\n",
       "      <td>6</td>\n",
       "    </tr>\n",
       "    <tr>\n",
       "      <th>1</th>\n",
       "      <td>1</td>\n",
       "      <td>31</td>\n",
       "      <td>1900</td>\n",
       "      <td>2</td>\n",
       "      <td>-</td>\n",
       "      <td>26</td>\n",
       "    </tr>\n",
       "    <tr>\n",
       "      <th>2</th>\n",
       "      <td>1</td>\n",
       "      <td>17</td>\n",
       "      <td>1900</td>\n",
       "      <td>2</td>\n",
       "      <td>-</td>\n",
       "      <td>39</td>\n",
       "    </tr>\n",
       "    <tr>\n",
       "      <th>3</th>\n",
       "      <td>1</td>\n",
       "      <td>10</td>\n",
       "      <td>1913</td>\n",
       "      <td>2</td>\n",
       "      <td>3936272</td>\n",
       "      <td>21</td>\n",
       "    </tr>\n",
       "    <tr>\n",
       "      <th>4</th>\n",
       "      <td>1</td>\n",
       "      <td>6</td>\n",
       "      <td>1900</td>\n",
       "      <td>2</td>\n",
       "      <td>8000000</td>\n",
       "      <td>55</td>\n",
       "    </tr>\n",
       "  </tbody>\n",
       "</table>\n",
       "</div>"
      ],
      "text/plain": [
       "   BOROUGH  TOTAL UNITS  YEAR BUILT  TAX CLASS AT TIME OF SALE SALE PRICE  LOT\n",
       "0        1            5        1900                          2    6625000    6\n",
       "1        1           31        1900                          2        -     26\n",
       "2        1           17        1900                          2        -     39\n",
       "3        1           10        1913                          2    3936272   21\n",
       "4        1            6        1900                          2    8000000   55"
      ]
     },
     "execution_count": 106,
     "metadata": {},
     "output_type": "execute_result"
    }
   ],
   "source": [
    "df_nyc = nyc[['BOROUGH', 'TOTAL UNITS', 'YEAR BUILT', 'TAX CLASS AT TIME OF SALE', 'SALE PRICE', 'LOT']]\n",
    "\n",
    "df_nyc.head()"
   ]
  },
  {
   "attachments": {},
   "cell_type": "markdown",
   "metadata": {},
   "source": [
    "Di codingan diatas saya mengambil 6 kolom yang kemungkinan memiliki hubungan antar kolom dan disimpan di variabel df_nyc"
   ]
  },
  {
   "attachments": {},
   "cell_type": "markdown",
   "metadata": {},
   "source": [
    "### Menentukan nilai selain Null"
   ]
  },
  {
   "attachments": {},
   "cell_type": "markdown",
   "metadata": {},
   "source": [
    "Disini saya menggunakan if pada percobaan disemua kolom diawali dari kolom Borough sampai kolom Lot untuk menentukan nilai selain Nan, untuk direplace menjadi nilai nan agar tidak adanya missing value atau data yang hilang atau nilai yang berbeda"
   ]
  },
  {
   "cell_type": "code",
   "execution_count": 107,
   "metadata": {},
   "outputs": [
    {
     "data": {
      "text/html": [
       "<div>\n",
       "<style scoped>\n",
       "    .dataframe tbody tr th:only-of-type {\n",
       "        vertical-align: middle;\n",
       "    }\n",
       "\n",
       "    .dataframe tbody tr th {\n",
       "        vertical-align: top;\n",
       "    }\n",
       "\n",
       "    .dataframe thead th {\n",
       "        text-align: right;\n",
       "    }\n",
       "</style>\n",
       "<table border=\"1\" class=\"dataframe\">\n",
       "  <thead>\n",
       "    <tr style=\"text-align: right;\">\n",
       "      <th></th>\n",
       "      <th>BOROUGH</th>\n",
       "      <th>TOTAL UNITS</th>\n",
       "      <th>YEAR BUILT</th>\n",
       "      <th>TAX CLASS AT TIME OF SALE</th>\n",
       "      <th>SALE PRICE</th>\n",
       "      <th>LOT</th>\n",
       "    </tr>\n",
       "  </thead>\n",
       "  <tbody>\n",
       "    <tr>\n",
       "      <th>0</th>\n",
       "      <td>1</td>\n",
       "      <td>5</td>\n",
       "      <td>1900</td>\n",
       "      <td>2</td>\n",
       "      <td>6625000</td>\n",
       "      <td>6</td>\n",
       "    </tr>\n",
       "    <tr>\n",
       "      <th>1</th>\n",
       "      <td>1</td>\n",
       "      <td>31</td>\n",
       "      <td>1900</td>\n",
       "      <td>2</td>\n",
       "      <td>-</td>\n",
       "      <td>26</td>\n",
       "    </tr>\n",
       "    <tr>\n",
       "      <th>2</th>\n",
       "      <td>1</td>\n",
       "      <td>17</td>\n",
       "      <td>1900</td>\n",
       "      <td>2</td>\n",
       "      <td>-</td>\n",
       "      <td>39</td>\n",
       "    </tr>\n",
       "    <tr>\n",
       "      <th>3</th>\n",
       "      <td>1</td>\n",
       "      <td>10</td>\n",
       "      <td>1913</td>\n",
       "      <td>2</td>\n",
       "      <td>3936272</td>\n",
       "      <td>21</td>\n",
       "    </tr>\n",
       "    <tr>\n",
       "      <th>4</th>\n",
       "      <td>1</td>\n",
       "      <td>6</td>\n",
       "      <td>1900</td>\n",
       "      <td>2</td>\n",
       "      <td>8000000</td>\n",
       "      <td>55</td>\n",
       "    </tr>\n",
       "    <tr>\n",
       "      <th>5</th>\n",
       "      <td>1</td>\n",
       "      <td>20</td>\n",
       "      <td>1900</td>\n",
       "      <td>2</td>\n",
       "      <td>-</td>\n",
       "      <td>16</td>\n",
       "    </tr>\n",
       "    <tr>\n",
       "      <th>6</th>\n",
       "      <td>1</td>\n",
       "      <td>8</td>\n",
       "      <td>1920</td>\n",
       "      <td>2</td>\n",
       "      <td>3192840</td>\n",
       "      <td>32</td>\n",
       "    </tr>\n",
       "    <tr>\n",
       "      <th>7</th>\n",
       "      <td>1</td>\n",
       "      <td>46</td>\n",
       "      <td>1900</td>\n",
       "      <td>2</td>\n",
       "      <td>-</td>\n",
       "      <td>18</td>\n",
       "    </tr>\n",
       "    <tr>\n",
       "      <th>8</th>\n",
       "      <td>1</td>\n",
       "      <td>15</td>\n",
       "      <td>1920</td>\n",
       "      <td>2</td>\n",
       "      <td>-</td>\n",
       "      <td>34</td>\n",
       "    </tr>\n",
       "    <tr>\n",
       "      <th>9</th>\n",
       "      <td>1</td>\n",
       "      <td>24</td>\n",
       "      <td>1920</td>\n",
       "      <td>2</td>\n",
       "      <td>16232000</td>\n",
       "      <td>153</td>\n",
       "    </tr>\n",
       "  </tbody>\n",
       "</table>\n",
       "</div>"
      ],
      "text/plain": [
       "   BOROUGH  TOTAL UNITS  YEAR BUILT  TAX CLASS AT TIME OF SALE SALE PRICE  LOT\n",
       "0        1            5        1900                          2    6625000    6\n",
       "1        1           31        1900                          2        -     26\n",
       "2        1           17        1900                          2        -     39\n",
       "3        1           10        1913                          2    3936272   21\n",
       "4        1            6        1900                          2    8000000   55\n",
       "5        1           20        1900                          2        -     16\n",
       "6        1            8        1920                          2    3192840   32\n",
       "7        1           46        1900                          2        -     18\n",
       "8        1           15        1920                          2        -     34\n",
       "9        1           24        1920                          2   16232000  153"
      ]
     },
     "execution_count": 107,
     "metadata": {},
     "output_type": "execute_result"
    }
   ],
   "source": [
    "index = 0 \n",
    "for row in df_nyc['BOROUGH']:\n",
    "    try:\n",
    "        float(row)\n",
    "        pass\n",
    "    except ValueError:\n",
    "        df_nyc.loc[index, 'BOROUGH'] = np.nan\n",
    "    index += 1\n",
    "\n",
    "df_nyc.head(10)"
   ]
  },
  {
   "cell_type": "code",
   "execution_count": 108,
   "metadata": {},
   "outputs": [
    {
     "data": {
      "text/html": [
       "<div>\n",
       "<style scoped>\n",
       "    .dataframe tbody tr th:only-of-type {\n",
       "        vertical-align: middle;\n",
       "    }\n",
       "\n",
       "    .dataframe tbody tr th {\n",
       "        vertical-align: top;\n",
       "    }\n",
       "\n",
       "    .dataframe thead th {\n",
       "        text-align: right;\n",
       "    }\n",
       "</style>\n",
       "<table border=\"1\" class=\"dataframe\">\n",
       "  <thead>\n",
       "    <tr style=\"text-align: right;\">\n",
       "      <th></th>\n",
       "      <th>BOROUGH</th>\n",
       "      <th>TOTAL UNITS</th>\n",
       "      <th>YEAR BUILT</th>\n",
       "      <th>TAX CLASS AT TIME OF SALE</th>\n",
       "      <th>SALE PRICE</th>\n",
       "      <th>LOT</th>\n",
       "    </tr>\n",
       "  </thead>\n",
       "  <tbody>\n",
       "    <tr>\n",
       "      <th>0</th>\n",
       "      <td>1</td>\n",
       "      <td>5</td>\n",
       "      <td>1900</td>\n",
       "      <td>2</td>\n",
       "      <td>6625000</td>\n",
       "      <td>6</td>\n",
       "    </tr>\n",
       "    <tr>\n",
       "      <th>1</th>\n",
       "      <td>1</td>\n",
       "      <td>31</td>\n",
       "      <td>1900</td>\n",
       "      <td>2</td>\n",
       "      <td>-</td>\n",
       "      <td>26</td>\n",
       "    </tr>\n",
       "    <tr>\n",
       "      <th>2</th>\n",
       "      <td>1</td>\n",
       "      <td>17</td>\n",
       "      <td>1900</td>\n",
       "      <td>2</td>\n",
       "      <td>-</td>\n",
       "      <td>39</td>\n",
       "    </tr>\n",
       "    <tr>\n",
       "      <th>3</th>\n",
       "      <td>1</td>\n",
       "      <td>10</td>\n",
       "      <td>1913</td>\n",
       "      <td>2</td>\n",
       "      <td>3936272</td>\n",
       "      <td>21</td>\n",
       "    </tr>\n",
       "    <tr>\n",
       "      <th>4</th>\n",
       "      <td>1</td>\n",
       "      <td>6</td>\n",
       "      <td>1900</td>\n",
       "      <td>2</td>\n",
       "      <td>8000000</td>\n",
       "      <td>55</td>\n",
       "    </tr>\n",
       "    <tr>\n",
       "      <th>5</th>\n",
       "      <td>1</td>\n",
       "      <td>20</td>\n",
       "      <td>1900</td>\n",
       "      <td>2</td>\n",
       "      <td>-</td>\n",
       "      <td>16</td>\n",
       "    </tr>\n",
       "    <tr>\n",
       "      <th>6</th>\n",
       "      <td>1</td>\n",
       "      <td>8</td>\n",
       "      <td>1920</td>\n",
       "      <td>2</td>\n",
       "      <td>3192840</td>\n",
       "      <td>32</td>\n",
       "    </tr>\n",
       "    <tr>\n",
       "      <th>7</th>\n",
       "      <td>1</td>\n",
       "      <td>46</td>\n",
       "      <td>1900</td>\n",
       "      <td>2</td>\n",
       "      <td>-</td>\n",
       "      <td>18</td>\n",
       "    </tr>\n",
       "    <tr>\n",
       "      <th>8</th>\n",
       "      <td>1</td>\n",
       "      <td>15</td>\n",
       "      <td>1920</td>\n",
       "      <td>2</td>\n",
       "      <td>-</td>\n",
       "      <td>34</td>\n",
       "    </tr>\n",
       "    <tr>\n",
       "      <th>9</th>\n",
       "      <td>1</td>\n",
       "      <td>24</td>\n",
       "      <td>1920</td>\n",
       "      <td>2</td>\n",
       "      <td>16232000</td>\n",
       "      <td>153</td>\n",
       "    </tr>\n",
       "  </tbody>\n",
       "</table>\n",
       "</div>"
      ],
      "text/plain": [
       "   BOROUGH  TOTAL UNITS  YEAR BUILT  TAX CLASS AT TIME OF SALE SALE PRICE  LOT\n",
       "0        1            5        1900                          2    6625000    6\n",
       "1        1           31        1900                          2        -     26\n",
       "2        1           17        1900                          2        -     39\n",
       "3        1           10        1913                          2    3936272   21\n",
       "4        1            6        1900                          2    8000000   55\n",
       "5        1           20        1900                          2        -     16\n",
       "6        1            8        1920                          2    3192840   32\n",
       "7        1           46        1900                          2        -     18\n",
       "8        1           15        1920                          2        -     34\n",
       "9        1           24        1920                          2   16232000  153"
      ]
     },
     "execution_count": 108,
     "metadata": {},
     "output_type": "execute_result"
    }
   ],
   "source": [
    "index = 0 \n",
    "for row in df_nyc['TOTAL UNITS']:\n",
    "    try:\n",
    "        float(row)\n",
    "        pass\n",
    "    except ValueError:\n",
    "        df_nyc.loc[index, 'TOTAL UNITS'] = np.nan\n",
    "    index += 1\n",
    "\n",
    "df_nyc.head(10)"
   ]
  },
  {
   "cell_type": "code",
   "execution_count": 109,
   "metadata": {},
   "outputs": [
    {
     "data": {
      "text/html": [
       "<div>\n",
       "<style scoped>\n",
       "    .dataframe tbody tr th:only-of-type {\n",
       "        vertical-align: middle;\n",
       "    }\n",
       "\n",
       "    .dataframe tbody tr th {\n",
       "        vertical-align: top;\n",
       "    }\n",
       "\n",
       "    .dataframe thead th {\n",
       "        text-align: right;\n",
       "    }\n",
       "</style>\n",
       "<table border=\"1\" class=\"dataframe\">\n",
       "  <thead>\n",
       "    <tr style=\"text-align: right;\">\n",
       "      <th></th>\n",
       "      <th>BOROUGH</th>\n",
       "      <th>TOTAL UNITS</th>\n",
       "      <th>YEAR BUILT</th>\n",
       "      <th>TAX CLASS AT TIME OF SALE</th>\n",
       "      <th>SALE PRICE</th>\n",
       "      <th>LOT</th>\n",
       "    </tr>\n",
       "  </thead>\n",
       "  <tbody>\n",
       "    <tr>\n",
       "      <th>0</th>\n",
       "      <td>1</td>\n",
       "      <td>5</td>\n",
       "      <td>1900</td>\n",
       "      <td>2</td>\n",
       "      <td>6625000</td>\n",
       "      <td>6</td>\n",
       "    </tr>\n",
       "    <tr>\n",
       "      <th>1</th>\n",
       "      <td>1</td>\n",
       "      <td>31</td>\n",
       "      <td>1900</td>\n",
       "      <td>2</td>\n",
       "      <td>-</td>\n",
       "      <td>26</td>\n",
       "    </tr>\n",
       "    <tr>\n",
       "      <th>2</th>\n",
       "      <td>1</td>\n",
       "      <td>17</td>\n",
       "      <td>1900</td>\n",
       "      <td>2</td>\n",
       "      <td>-</td>\n",
       "      <td>39</td>\n",
       "    </tr>\n",
       "    <tr>\n",
       "      <th>3</th>\n",
       "      <td>1</td>\n",
       "      <td>10</td>\n",
       "      <td>1913</td>\n",
       "      <td>2</td>\n",
       "      <td>3936272</td>\n",
       "      <td>21</td>\n",
       "    </tr>\n",
       "    <tr>\n",
       "      <th>4</th>\n",
       "      <td>1</td>\n",
       "      <td>6</td>\n",
       "      <td>1900</td>\n",
       "      <td>2</td>\n",
       "      <td>8000000</td>\n",
       "      <td>55</td>\n",
       "    </tr>\n",
       "    <tr>\n",
       "      <th>5</th>\n",
       "      <td>1</td>\n",
       "      <td>20</td>\n",
       "      <td>1900</td>\n",
       "      <td>2</td>\n",
       "      <td>-</td>\n",
       "      <td>16</td>\n",
       "    </tr>\n",
       "    <tr>\n",
       "      <th>6</th>\n",
       "      <td>1</td>\n",
       "      <td>8</td>\n",
       "      <td>1920</td>\n",
       "      <td>2</td>\n",
       "      <td>3192840</td>\n",
       "      <td>32</td>\n",
       "    </tr>\n",
       "    <tr>\n",
       "      <th>7</th>\n",
       "      <td>1</td>\n",
       "      <td>46</td>\n",
       "      <td>1900</td>\n",
       "      <td>2</td>\n",
       "      <td>-</td>\n",
       "      <td>18</td>\n",
       "    </tr>\n",
       "    <tr>\n",
       "      <th>8</th>\n",
       "      <td>1</td>\n",
       "      <td>15</td>\n",
       "      <td>1920</td>\n",
       "      <td>2</td>\n",
       "      <td>-</td>\n",
       "      <td>34</td>\n",
       "    </tr>\n",
       "    <tr>\n",
       "      <th>9</th>\n",
       "      <td>1</td>\n",
       "      <td>24</td>\n",
       "      <td>1920</td>\n",
       "      <td>2</td>\n",
       "      <td>16232000</td>\n",
       "      <td>153</td>\n",
       "    </tr>\n",
       "  </tbody>\n",
       "</table>\n",
       "</div>"
      ],
      "text/plain": [
       "   BOROUGH  TOTAL UNITS  YEAR BUILT  TAX CLASS AT TIME OF SALE SALE PRICE  LOT\n",
       "0        1            5        1900                          2    6625000    6\n",
       "1        1           31        1900                          2        -     26\n",
       "2        1           17        1900                          2        -     39\n",
       "3        1           10        1913                          2    3936272   21\n",
       "4        1            6        1900                          2    8000000   55\n",
       "5        1           20        1900                          2        -     16\n",
       "6        1            8        1920                          2    3192840   32\n",
       "7        1           46        1900                          2        -     18\n",
       "8        1           15        1920                          2        -     34\n",
       "9        1           24        1920                          2   16232000  153"
      ]
     },
     "execution_count": 109,
     "metadata": {},
     "output_type": "execute_result"
    }
   ],
   "source": [
    "index = 0 \n",
    "for row in df_nyc['YEAR BUILT']:\n",
    "    try:\n",
    "        float(row)\n",
    "        pass\n",
    "    except ValueError:\n",
    "        df_nyc.loc[index, 'YEAR BUILT'] = np.nan\n",
    "    index += 1\n",
    "\n",
    "df_nyc.head(10)"
   ]
  },
  {
   "cell_type": "code",
   "execution_count": 110,
   "metadata": {},
   "outputs": [
    {
     "data": {
      "text/html": [
       "<div>\n",
       "<style scoped>\n",
       "    .dataframe tbody tr th:only-of-type {\n",
       "        vertical-align: middle;\n",
       "    }\n",
       "\n",
       "    .dataframe tbody tr th {\n",
       "        vertical-align: top;\n",
       "    }\n",
       "\n",
       "    .dataframe thead th {\n",
       "        text-align: right;\n",
       "    }\n",
       "</style>\n",
       "<table border=\"1\" class=\"dataframe\">\n",
       "  <thead>\n",
       "    <tr style=\"text-align: right;\">\n",
       "      <th></th>\n",
       "      <th>BOROUGH</th>\n",
       "      <th>TOTAL UNITS</th>\n",
       "      <th>YEAR BUILT</th>\n",
       "      <th>TAX CLASS AT TIME OF SALE</th>\n",
       "      <th>SALE PRICE</th>\n",
       "      <th>LOT</th>\n",
       "    </tr>\n",
       "  </thead>\n",
       "  <tbody>\n",
       "    <tr>\n",
       "      <th>0</th>\n",
       "      <td>1</td>\n",
       "      <td>5</td>\n",
       "      <td>1900</td>\n",
       "      <td>2</td>\n",
       "      <td>6625000</td>\n",
       "      <td>6</td>\n",
       "    </tr>\n",
       "    <tr>\n",
       "      <th>1</th>\n",
       "      <td>1</td>\n",
       "      <td>31</td>\n",
       "      <td>1900</td>\n",
       "      <td>2</td>\n",
       "      <td>-</td>\n",
       "      <td>26</td>\n",
       "    </tr>\n",
       "    <tr>\n",
       "      <th>2</th>\n",
       "      <td>1</td>\n",
       "      <td>17</td>\n",
       "      <td>1900</td>\n",
       "      <td>2</td>\n",
       "      <td>-</td>\n",
       "      <td>39</td>\n",
       "    </tr>\n",
       "    <tr>\n",
       "      <th>3</th>\n",
       "      <td>1</td>\n",
       "      <td>10</td>\n",
       "      <td>1913</td>\n",
       "      <td>2</td>\n",
       "      <td>3936272</td>\n",
       "      <td>21</td>\n",
       "    </tr>\n",
       "    <tr>\n",
       "      <th>4</th>\n",
       "      <td>1</td>\n",
       "      <td>6</td>\n",
       "      <td>1900</td>\n",
       "      <td>2</td>\n",
       "      <td>8000000</td>\n",
       "      <td>55</td>\n",
       "    </tr>\n",
       "    <tr>\n",
       "      <th>5</th>\n",
       "      <td>1</td>\n",
       "      <td>20</td>\n",
       "      <td>1900</td>\n",
       "      <td>2</td>\n",
       "      <td>-</td>\n",
       "      <td>16</td>\n",
       "    </tr>\n",
       "    <tr>\n",
       "      <th>6</th>\n",
       "      <td>1</td>\n",
       "      <td>8</td>\n",
       "      <td>1920</td>\n",
       "      <td>2</td>\n",
       "      <td>3192840</td>\n",
       "      <td>32</td>\n",
       "    </tr>\n",
       "    <tr>\n",
       "      <th>7</th>\n",
       "      <td>1</td>\n",
       "      <td>46</td>\n",
       "      <td>1900</td>\n",
       "      <td>2</td>\n",
       "      <td>-</td>\n",
       "      <td>18</td>\n",
       "    </tr>\n",
       "    <tr>\n",
       "      <th>8</th>\n",
       "      <td>1</td>\n",
       "      <td>15</td>\n",
       "      <td>1920</td>\n",
       "      <td>2</td>\n",
       "      <td>-</td>\n",
       "      <td>34</td>\n",
       "    </tr>\n",
       "    <tr>\n",
       "      <th>9</th>\n",
       "      <td>1</td>\n",
       "      <td>24</td>\n",
       "      <td>1920</td>\n",
       "      <td>2</td>\n",
       "      <td>16232000</td>\n",
       "      <td>153</td>\n",
       "    </tr>\n",
       "  </tbody>\n",
       "</table>\n",
       "</div>"
      ],
      "text/plain": [
       "   BOROUGH  TOTAL UNITS  YEAR BUILT  TAX CLASS AT TIME OF SALE SALE PRICE  LOT\n",
       "0        1            5        1900                          2    6625000    6\n",
       "1        1           31        1900                          2        -     26\n",
       "2        1           17        1900                          2        -     39\n",
       "3        1           10        1913                          2    3936272   21\n",
       "4        1            6        1900                          2    8000000   55\n",
       "5        1           20        1900                          2        -     16\n",
       "6        1            8        1920                          2    3192840   32\n",
       "7        1           46        1900                          2        -     18\n",
       "8        1           15        1920                          2        -     34\n",
       "9        1           24        1920                          2   16232000  153"
      ]
     },
     "execution_count": 110,
     "metadata": {},
     "output_type": "execute_result"
    }
   ],
   "source": [
    "index = 0 \n",
    "for row in df_nyc['TAX CLASS AT TIME OF SALE']:\n",
    "    try:\n",
    "        float(row)\n",
    "        pass\n",
    "    except ValueError:\n",
    "        df_nyc.loc[index, 'TAX CLASS AT TIME OF SALE'] = np.nan\n",
    "    index += 1\n",
    "\n",
    "df_nyc.head(10)"
   ]
  },
  {
   "cell_type": "code",
   "execution_count": 111,
   "metadata": {},
   "outputs": [
    {
     "data": {
      "text/html": [
       "<div>\n",
       "<style scoped>\n",
       "    .dataframe tbody tr th:only-of-type {\n",
       "        vertical-align: middle;\n",
       "    }\n",
       "\n",
       "    .dataframe tbody tr th {\n",
       "        vertical-align: top;\n",
       "    }\n",
       "\n",
       "    .dataframe thead th {\n",
       "        text-align: right;\n",
       "    }\n",
       "</style>\n",
       "<table border=\"1\" class=\"dataframe\">\n",
       "  <thead>\n",
       "    <tr style=\"text-align: right;\">\n",
       "      <th></th>\n",
       "      <th>BOROUGH</th>\n",
       "      <th>TOTAL UNITS</th>\n",
       "      <th>YEAR BUILT</th>\n",
       "      <th>TAX CLASS AT TIME OF SALE</th>\n",
       "      <th>SALE PRICE</th>\n",
       "      <th>LOT</th>\n",
       "    </tr>\n",
       "  </thead>\n",
       "  <tbody>\n",
       "    <tr>\n",
       "      <th>0</th>\n",
       "      <td>1</td>\n",
       "      <td>5</td>\n",
       "      <td>1900</td>\n",
       "      <td>2</td>\n",
       "      <td>6625000</td>\n",
       "      <td>6</td>\n",
       "    </tr>\n",
       "    <tr>\n",
       "      <th>1</th>\n",
       "      <td>1</td>\n",
       "      <td>31</td>\n",
       "      <td>1900</td>\n",
       "      <td>2</td>\n",
       "      <td>NaN</td>\n",
       "      <td>26</td>\n",
       "    </tr>\n",
       "    <tr>\n",
       "      <th>2</th>\n",
       "      <td>1</td>\n",
       "      <td>17</td>\n",
       "      <td>1900</td>\n",
       "      <td>2</td>\n",
       "      <td>NaN</td>\n",
       "      <td>39</td>\n",
       "    </tr>\n",
       "    <tr>\n",
       "      <th>3</th>\n",
       "      <td>1</td>\n",
       "      <td>10</td>\n",
       "      <td>1913</td>\n",
       "      <td>2</td>\n",
       "      <td>3936272</td>\n",
       "      <td>21</td>\n",
       "    </tr>\n",
       "    <tr>\n",
       "      <th>4</th>\n",
       "      <td>1</td>\n",
       "      <td>6</td>\n",
       "      <td>1900</td>\n",
       "      <td>2</td>\n",
       "      <td>8000000</td>\n",
       "      <td>55</td>\n",
       "    </tr>\n",
       "    <tr>\n",
       "      <th>5</th>\n",
       "      <td>1</td>\n",
       "      <td>20</td>\n",
       "      <td>1900</td>\n",
       "      <td>2</td>\n",
       "      <td>NaN</td>\n",
       "      <td>16</td>\n",
       "    </tr>\n",
       "    <tr>\n",
       "      <th>6</th>\n",
       "      <td>1</td>\n",
       "      <td>8</td>\n",
       "      <td>1920</td>\n",
       "      <td>2</td>\n",
       "      <td>3192840</td>\n",
       "      <td>32</td>\n",
       "    </tr>\n",
       "    <tr>\n",
       "      <th>7</th>\n",
       "      <td>1</td>\n",
       "      <td>46</td>\n",
       "      <td>1900</td>\n",
       "      <td>2</td>\n",
       "      <td>NaN</td>\n",
       "      <td>18</td>\n",
       "    </tr>\n",
       "    <tr>\n",
       "      <th>8</th>\n",
       "      <td>1</td>\n",
       "      <td>15</td>\n",
       "      <td>1920</td>\n",
       "      <td>2</td>\n",
       "      <td>NaN</td>\n",
       "      <td>34</td>\n",
       "    </tr>\n",
       "    <tr>\n",
       "      <th>9</th>\n",
       "      <td>1</td>\n",
       "      <td>24</td>\n",
       "      <td>1920</td>\n",
       "      <td>2</td>\n",
       "      <td>16232000</td>\n",
       "      <td>153</td>\n",
       "    </tr>\n",
       "  </tbody>\n",
       "</table>\n",
       "</div>"
      ],
      "text/plain": [
       "   BOROUGH  TOTAL UNITS  YEAR BUILT  TAX CLASS AT TIME OF SALE SALE PRICE  LOT\n",
       "0        1            5        1900                          2    6625000    6\n",
       "1        1           31        1900                          2        NaN   26\n",
       "2        1           17        1900                          2        NaN   39\n",
       "3        1           10        1913                          2    3936272   21\n",
       "4        1            6        1900                          2    8000000   55\n",
       "5        1           20        1900                          2        NaN   16\n",
       "6        1            8        1920                          2    3192840   32\n",
       "7        1           46        1900                          2        NaN   18\n",
       "8        1           15        1920                          2        NaN   34\n",
       "9        1           24        1920                          2   16232000  153"
      ]
     },
     "execution_count": 111,
     "metadata": {},
     "output_type": "execute_result"
    }
   ],
   "source": [
    "index = 0 \n",
    "for row in df_nyc['SALE PRICE']:\n",
    "    try:\n",
    "        float(row)\n",
    "        pass\n",
    "    except ValueError:\n",
    "        df_nyc.loc[index, 'SALE PRICE'] = np.nan\n",
    "    index += 1\n",
    "\n",
    "df_nyc.head(10)"
   ]
  },
  {
   "cell_type": "code",
   "execution_count": 112,
   "metadata": {},
   "outputs": [
    {
     "data": {
      "text/html": [
       "<div>\n",
       "<style scoped>\n",
       "    .dataframe tbody tr th:only-of-type {\n",
       "        vertical-align: middle;\n",
       "    }\n",
       "\n",
       "    .dataframe tbody tr th {\n",
       "        vertical-align: top;\n",
       "    }\n",
       "\n",
       "    .dataframe thead th {\n",
       "        text-align: right;\n",
       "    }\n",
       "</style>\n",
       "<table border=\"1\" class=\"dataframe\">\n",
       "  <thead>\n",
       "    <tr style=\"text-align: right;\">\n",
       "      <th></th>\n",
       "      <th>BOROUGH</th>\n",
       "      <th>TOTAL UNITS</th>\n",
       "      <th>YEAR BUILT</th>\n",
       "      <th>TAX CLASS AT TIME OF SALE</th>\n",
       "      <th>SALE PRICE</th>\n",
       "      <th>LOT</th>\n",
       "    </tr>\n",
       "  </thead>\n",
       "  <tbody>\n",
       "    <tr>\n",
       "      <th>0</th>\n",
       "      <td>1</td>\n",
       "      <td>5</td>\n",
       "      <td>1900</td>\n",
       "      <td>2</td>\n",
       "      <td>6625000</td>\n",
       "      <td>6</td>\n",
       "    </tr>\n",
       "    <tr>\n",
       "      <th>1</th>\n",
       "      <td>1</td>\n",
       "      <td>31</td>\n",
       "      <td>1900</td>\n",
       "      <td>2</td>\n",
       "      <td>NaN</td>\n",
       "      <td>26</td>\n",
       "    </tr>\n",
       "    <tr>\n",
       "      <th>2</th>\n",
       "      <td>1</td>\n",
       "      <td>17</td>\n",
       "      <td>1900</td>\n",
       "      <td>2</td>\n",
       "      <td>NaN</td>\n",
       "      <td>39</td>\n",
       "    </tr>\n",
       "    <tr>\n",
       "      <th>3</th>\n",
       "      <td>1</td>\n",
       "      <td>10</td>\n",
       "      <td>1913</td>\n",
       "      <td>2</td>\n",
       "      <td>3936272</td>\n",
       "      <td>21</td>\n",
       "    </tr>\n",
       "    <tr>\n",
       "      <th>4</th>\n",
       "      <td>1</td>\n",
       "      <td>6</td>\n",
       "      <td>1900</td>\n",
       "      <td>2</td>\n",
       "      <td>8000000</td>\n",
       "      <td>55</td>\n",
       "    </tr>\n",
       "    <tr>\n",
       "      <th>5</th>\n",
       "      <td>1</td>\n",
       "      <td>20</td>\n",
       "      <td>1900</td>\n",
       "      <td>2</td>\n",
       "      <td>NaN</td>\n",
       "      <td>16</td>\n",
       "    </tr>\n",
       "    <tr>\n",
       "      <th>6</th>\n",
       "      <td>1</td>\n",
       "      <td>8</td>\n",
       "      <td>1920</td>\n",
       "      <td>2</td>\n",
       "      <td>3192840</td>\n",
       "      <td>32</td>\n",
       "    </tr>\n",
       "    <tr>\n",
       "      <th>7</th>\n",
       "      <td>1</td>\n",
       "      <td>46</td>\n",
       "      <td>1900</td>\n",
       "      <td>2</td>\n",
       "      <td>NaN</td>\n",
       "      <td>18</td>\n",
       "    </tr>\n",
       "    <tr>\n",
       "      <th>8</th>\n",
       "      <td>1</td>\n",
       "      <td>15</td>\n",
       "      <td>1920</td>\n",
       "      <td>2</td>\n",
       "      <td>NaN</td>\n",
       "      <td>34</td>\n",
       "    </tr>\n",
       "    <tr>\n",
       "      <th>9</th>\n",
       "      <td>1</td>\n",
       "      <td>24</td>\n",
       "      <td>1920</td>\n",
       "      <td>2</td>\n",
       "      <td>16232000</td>\n",
       "      <td>153</td>\n",
       "    </tr>\n",
       "  </tbody>\n",
       "</table>\n",
       "</div>"
      ],
      "text/plain": [
       "   BOROUGH  TOTAL UNITS  YEAR BUILT  TAX CLASS AT TIME OF SALE SALE PRICE  LOT\n",
       "0        1            5        1900                          2    6625000    6\n",
       "1        1           31        1900                          2        NaN   26\n",
       "2        1           17        1900                          2        NaN   39\n",
       "3        1           10        1913                          2    3936272   21\n",
       "4        1            6        1900                          2    8000000   55\n",
       "5        1           20        1900                          2        NaN   16\n",
       "6        1            8        1920                          2    3192840   32\n",
       "7        1           46        1900                          2        NaN   18\n",
       "8        1           15        1920                          2        NaN   34\n",
       "9        1           24        1920                          2   16232000  153"
      ]
     },
     "execution_count": 112,
     "metadata": {},
     "output_type": "execute_result"
    }
   ],
   "source": [
    "index = 0 \n",
    "for row in df_nyc['LOT']:\n",
    "    try:\n",
    "        float(row)\n",
    "        pass\n",
    "    except ValueError:\n",
    "        df_nyc.loc[index, 'LOT'] = np.nan\n",
    "    index += 1\n",
    "\n",
    "df_nyc.head(10)"
   ]
  },
  {
   "attachments": {},
   "cell_type": "markdown",
   "metadata": {},
   "source": [
    "### Menampilkan Nilai Null\n",
    "Setelah di cek missing value, melakukan cek kembali pada masing masing kolom untuk melihat nilai null"
   ]
  },
  {
   "cell_type": "code",
   "execution_count": 113,
   "metadata": {},
   "outputs": [
    {
     "data": {
      "text/plain": [
       "BOROUGH                          0\n",
       "TOTAL UNITS                      0\n",
       "YEAR BUILT                       0\n",
       "TAX CLASS AT TIME OF SALE        0\n",
       "SALE PRICE                   14561\n",
       "LOT                              0\n",
       "dtype: int64"
      ]
     },
     "execution_count": 113,
     "metadata": {},
     "output_type": "execute_result"
    }
   ],
   "source": [
    "df_nyc.isnull().sum()"
   ]
  },
  {
   "attachments": {},
   "cell_type": "markdown",
   "metadata": {},
   "source": [
    "hanya sale price yang memiliki nilai null sebanyak 14561 baris."
   ]
  },
  {
   "attachments": {},
   "cell_type": "markdown",
   "metadata": {},
   "source": [
    "### Menghapus Nilai Null"
   ]
  },
  {
   "cell_type": "code",
   "execution_count": 114,
   "metadata": {},
   "outputs": [
    {
     "name": "stderr",
     "output_type": "stream",
     "text": [
      "C:\\Users\\Fadli Putra\\AppData\\Local\\Temp\\ipykernel_1840\\3256827233.py:1: SettingWithCopyWarning: \n",
      "A value is trying to be set on a copy of a slice from a DataFrame\n",
      "\n",
      "See the caveats in the documentation: https://pandas.pydata.org/pandas-docs/stable/user_guide/indexing.html#returning-a-view-versus-a-copy\n",
      "  df_nyc.dropna(axis=0, inplace=True)\n"
     ]
    },
    {
     "data": {
      "text/html": [
       "<div>\n",
       "<style scoped>\n",
       "    .dataframe tbody tr th:only-of-type {\n",
       "        vertical-align: middle;\n",
       "    }\n",
       "\n",
       "    .dataframe tbody tr th {\n",
       "        vertical-align: top;\n",
       "    }\n",
       "\n",
       "    .dataframe thead th {\n",
       "        text-align: right;\n",
       "    }\n",
       "</style>\n",
       "<table border=\"1\" class=\"dataframe\">\n",
       "  <thead>\n",
       "    <tr style=\"text-align: right;\">\n",
       "      <th></th>\n",
       "      <th>BOROUGH</th>\n",
       "      <th>TOTAL UNITS</th>\n",
       "      <th>YEAR BUILT</th>\n",
       "      <th>TAX CLASS AT TIME OF SALE</th>\n",
       "      <th>SALE PRICE</th>\n",
       "      <th>LOT</th>\n",
       "    </tr>\n",
       "  </thead>\n",
       "  <tbody>\n",
       "    <tr>\n",
       "      <th>0</th>\n",
       "      <td>1</td>\n",
       "      <td>5</td>\n",
       "      <td>1900</td>\n",
       "      <td>2</td>\n",
       "      <td>6625000</td>\n",
       "      <td>6</td>\n",
       "    </tr>\n",
       "    <tr>\n",
       "      <th>3</th>\n",
       "      <td>1</td>\n",
       "      <td>10</td>\n",
       "      <td>1913</td>\n",
       "      <td>2</td>\n",
       "      <td>3936272</td>\n",
       "      <td>21</td>\n",
       "    </tr>\n",
       "    <tr>\n",
       "      <th>4</th>\n",
       "      <td>1</td>\n",
       "      <td>6</td>\n",
       "      <td>1900</td>\n",
       "      <td>2</td>\n",
       "      <td>8000000</td>\n",
       "      <td>55</td>\n",
       "    </tr>\n",
       "  </tbody>\n",
       "</table>\n",
       "</div>"
      ],
      "text/plain": [
       "   BOROUGH  TOTAL UNITS  YEAR BUILT  TAX CLASS AT TIME OF SALE SALE PRICE  LOT\n",
       "0        1            5        1900                          2    6625000    6\n",
       "3        1           10        1913                          2    3936272   21\n",
       "4        1            6        1900                          2    8000000   55"
      ]
     },
     "execution_count": 114,
     "metadata": {},
     "output_type": "execute_result"
    }
   ],
   "source": [
    "df_nyc.dropna(axis=0, inplace=True)\n",
    "df_nyc.head(3)"
   ]
  },
  {
   "attachments": {},
   "cell_type": "markdown",
   "metadata": {},
   "source": [
    "Setelah menghapus nilai null, re-check kembali informasi datanya"
   ]
  },
  {
   "cell_type": "code",
   "execution_count": 115,
   "metadata": {},
   "outputs": [
    {
     "name": "stdout",
     "output_type": "stream",
     "text": [
      "<class 'pandas.core.frame.DataFrame'>\n",
      "Int64Index: 69987 entries, 0 to 84547\n",
      "Data columns (total 6 columns):\n",
      " #   Column                     Non-Null Count  Dtype \n",
      "---  ------                     --------------  ----- \n",
      " 0   BOROUGH                    69987 non-null  int64 \n",
      " 1   TOTAL UNITS                69987 non-null  int64 \n",
      " 2   YEAR BUILT                 69987 non-null  int64 \n",
      " 3   TAX CLASS AT TIME OF SALE  69987 non-null  int64 \n",
      " 4   SALE PRICE                 69987 non-null  object\n",
      " 5   LOT                        69987 non-null  int64 \n",
      "dtypes: int64(5), object(1)\n",
      "memory usage: 3.7+ MB\n"
     ]
    }
   ],
   "source": [
    "df_nyc.info()"
   ]
  },
  {
   "attachments": {},
   "cell_type": "markdown",
   "metadata": {},
   "source": [
    "### Measure of Central Tendency : Mean"
   ]
  },
  {
   "attachments": {},
   "cell_type": "markdown",
   "metadata": {},
   "source": [
    "Mencari Mean menggunakan library scipy pada kolom 'TOTAL UNITS'"
   ]
  },
  {
   "cell_type": "code",
   "execution_count": 116,
   "metadata": {},
   "outputs": [
    {
     "data": {
      "text/plain": [
       "2.092202837669853"
      ]
     },
     "execution_count": 116,
     "metadata": {},
     "output_type": "execute_result"
    }
   ],
   "source": [
    "pd.Series(df_nyc['TOTAL UNITS']).mean()"
   ]
  },
  {
   "attachments": {},
   "cell_type": "markdown",
   "metadata": {},
   "source": [
    "Mencari Mean menggunakan library Numpy pada kolom 'BOROUGH'"
   ]
  },
  {
   "cell_type": "code",
   "execution_count": 117,
   "metadata": {},
   "outputs": [
    {
     "data": {
      "text/plain": [
       "2.9219283581236515"
      ]
     },
     "execution_count": 117,
     "metadata": {},
     "output_type": "execute_result"
    }
   ],
   "source": [
    "np.mean(df_nyc['BOROUGH'])"
   ]
  },
  {
   "attachments": {},
   "cell_type": "markdown",
   "metadata": {},
   "source": [
    "Mencari Mean menggunakan library Scipy pada kolom 'TIME CLASS AT TIME OF SALE'"
   ]
  },
  {
   "cell_type": "code",
   "execution_count": 118,
   "metadata": {},
   "outputs": [
    {
     "name": "stderr",
     "output_type": "stream",
     "text": [
      "C:\\Users\\Fadli Putra\\AppData\\Local\\Temp\\ipykernel_1840\\1322678403.py:1: DeprecationWarning: scipy.mean is deprecated and will be removed in SciPy 2.0.0, use numpy.mean instead\n",
      "  scipy.mean(df_nyc['TAX CLASS AT TIME OF SALE'])\n"
     ]
    },
    {
     "data": {
      "text/plain": [
       "1.641976367039593"
      ]
     },
     "execution_count": 118,
     "metadata": {},
     "output_type": "execute_result"
    }
   ],
   "source": [
    "scipy.mean(df_nyc['TAX CLASS AT TIME OF SALE'])"
   ]
  },
  {
   "attachments": {},
   "cell_type": "markdown",
   "metadata": {},
   "source": [
    "### Measure of Central Tendency : Median"
   ]
  },
  {
   "attachments": {},
   "cell_type": "markdown",
   "metadata": {},
   "source": [
    "Mencari Median menggunakan library Pandas pada kolom 'YEAR BUILT'"
   ]
  },
  {
   "cell_type": "code",
   "execution_count": 119,
   "metadata": {},
   "outputs": [
    {
     "data": {
      "text/plain": [
       "1937.0"
      ]
     },
     "execution_count": 119,
     "metadata": {},
     "output_type": "execute_result"
    }
   ],
   "source": [
    "pd.Series(df_nyc['YEAR BUILT']).median()"
   ]
  },
  {
   "attachments": {},
   "cell_type": "markdown",
   "metadata": {},
   "source": [
    "Mencari Median menggunakan library Scipy pada kolom 'TOTAL UNITS'"
   ]
  },
  {
   "cell_type": "code",
   "execution_count": 120,
   "metadata": {},
   "outputs": [
    {
     "data": {
      "text/plain": [
       "1.0"
      ]
     },
     "execution_count": 120,
     "metadata": {},
     "output_type": "execute_result"
    }
   ],
   "source": [
    "np.median(df_nyc['TOTAL UNITS'])"
   ]
  },
  {
   "attachments": {},
   "cell_type": "markdown",
   "metadata": {},
   "source": [
    "Mencari Median menggunakan library Scipy pada kolom 'TIME CLASS AT TIME OF SALE'"
   ]
  },
  {
   "cell_type": "code",
   "execution_count": 121,
   "metadata": {},
   "outputs": [
    {
     "name": "stderr",
     "output_type": "stream",
     "text": [
      "C:\\Users\\Fadli Putra\\AppData\\Local\\Temp\\ipykernel_1840\\52580768.py:1: DeprecationWarning: scipy.median is deprecated and will be removed in SciPy 2.0.0, use numpy.median instead\n",
      "  scipy.median(df_nyc['TAX CLASS AT TIME OF SALE'])\n"
     ]
    },
    {
     "data": {
      "text/plain": [
       "2.0"
      ]
     },
     "execution_count": 121,
     "metadata": {},
     "output_type": "execute_result"
    }
   ],
   "source": [
    "scipy.median(df_nyc['TAX CLASS AT TIME OF SALE'])"
   ]
  },
  {
   "attachments": {},
   "cell_type": "markdown",
   "metadata": {},
   "source": [
    "### Measure of Central Tendency : Modus"
   ]
  },
  {
   "attachments": {},
   "cell_type": "markdown",
   "metadata": {},
   "source": [
    "Mencari Modus menggunakan library Pandas pada kolom 'BOROUGH'"
   ]
  },
  {
   "cell_type": "code",
   "execution_count": 122,
   "metadata": {},
   "outputs": [
    {
     "data": {
      "text/plain": [
       "0    3\n",
       "Name: BOROUGH, dtype: int64"
      ]
     },
     "execution_count": 122,
     "metadata": {},
     "output_type": "execute_result"
    }
   ],
   "source": [
    "pd.Series(df_nyc['BOROUGH']).mode()"
   ]
  },
  {
   "attachments": {},
   "cell_type": "markdown",
   "metadata": {},
   "source": [
    "Mencari Modus menggunakan library Scipy pada kolom 'YEAR BUILT' dengan output berupa urutan index"
   ]
  },
  {
   "cell_type": "code",
   "execution_count": 123,
   "metadata": {},
   "outputs": [
    {
     "name": "stderr",
     "output_type": "stream",
     "text": [
      "C:\\Users\\Fadli Putra\\AppData\\Local\\Temp\\ipykernel_1840\\4272022224.py:1: FutureWarning: Unlike other reduction functions (e.g. `skew`, `kurtosis`), the default behavior of `mode` typically preserves the axis it acts along. In SciPy 1.11.0, this behavior will change: the default value of `keepdims` will become False, the `axis` over which the statistic is taken will be eliminated, and the value None will no longer be accepted. Set `keepdims` to True or False to avoid this warning.\n",
      "  scipy.stats.mode(df_nyc['YEAR BUILT'])\n"
     ]
    },
    {
     "data": {
      "text/plain": [
       "ModeResult(mode=array([0], dtype=int64), count=array([5391]))"
      ]
     },
     "execution_count": 123,
     "metadata": {},
     "output_type": "execute_result"
    }
   ],
   "source": [
    "scipy.stats.mode(df_nyc['YEAR BUILT'])"
   ]
  },
  {
   "attachments": {},
   "cell_type": "markdown",
   "metadata": {},
   "source": [
    "### Measure of Spread: Range"
   ]
  },
  {
   "attachments": {},
   "cell_type": "markdown",
   "metadata": {},
   "source": [
    "Variabel df_nycRange adalah penampung data dalam bentuk array untuk kolom YEAR BUILT untuk mempermudah menghitung Range"
   ]
  },
  {
   "cell_type": "code",
   "execution_count": 124,
   "metadata": {},
   "outputs": [],
   "source": [
    "df_nycRange = df_nyc['YEAR BUILT'].to_numpy()"
   ]
  },
  {
   "attachments": {},
   "cell_type": "markdown",
   "metadata": {},
   "source": [
    "Berikut tampilan datanya"
   ]
  },
  {
   "cell_type": "code",
   "execution_count": 125,
   "metadata": {},
   "outputs": [
    {
     "data": {
      "text/plain": [
       "array([1900, 1913, 1900, ..., 1925, 2001, 2006], dtype=int64)"
      ]
     },
     "execution_count": 125,
     "metadata": {},
     "output_type": "execute_result"
    }
   ],
   "source": [
    "df_nycRange"
   ]
  },
  {
   "attachments": {},
   "cell_type": "markdown",
   "metadata": {},
   "source": [
    "Menentukan nilai Minimum"
   ]
  },
  {
   "cell_type": "code",
   "execution_count": 126,
   "metadata": {},
   "outputs": [
    {
     "data": {
      "text/plain": [
       "0"
      ]
     },
     "execution_count": 126,
     "metadata": {},
     "output_type": "execute_result"
    }
   ],
   "source": [
    "np.amin(df_nycRange)"
   ]
  },
  {
   "attachments": {},
   "cell_type": "markdown",
   "metadata": {},
   "source": [
    "Menentukan nilai Maximum"
   ]
  },
  {
   "cell_type": "code",
   "execution_count": 127,
   "metadata": {},
   "outputs": [
    {
     "data": {
      "text/plain": [
       "2017"
      ]
     },
     "execution_count": 127,
     "metadata": {},
     "output_type": "execute_result"
    }
   ],
   "source": [
    "np.amax(df_nycRange)"
   ]
  },
  {
   "attachments": {},
   "cell_type": "markdown",
   "metadata": {},
   "source": [
    "Menentukan range kedua nilai maximum dan minimum"
   ]
  },
  {
   "cell_type": "code",
   "execution_count": 128,
   "metadata": {},
   "outputs": [
    {
     "data": {
      "text/plain": [
       "2017"
      ]
     },
     "execution_count": 128,
     "metadata": {},
     "output_type": "execute_result"
    }
   ],
   "source": [
    "np.amax(df_nycRange) - np.amin(df_nycRange)"
   ]
  },
  {
   "attachments": {},
   "cell_type": "markdown",
   "metadata": {},
   "source": [
    "### Measure of Spread: Variance"
   ]
  },
  {
   "cell_type": "code",
   "execution_count": 129,
   "metadata": {},
   "outputs": [],
   "source": [
    "df_nycVar = df_nyc['LOT'].astype('int64')"
   ]
  },
  {
   "cell_type": "code",
   "execution_count": 130,
   "metadata": {},
   "outputs": [
    {
     "data": {
      "text/plain": [
       "0          6\n",
       "3         21\n",
       "4         55\n",
       "6         32\n",
       "9        153\n",
       "        ... \n",
       "84543     34\n",
       "84544     78\n",
       "84545     60\n",
       "84546     28\n",
       "84547    679\n",
       "Name: LOT, Length: 69987, dtype: int64"
      ]
     },
     "execution_count": 130,
     "metadata": {},
     "output_type": "execute_result"
    }
   ],
   "source": [
    "df_nycVar"
   ]
  },
  {
   "cell_type": "code",
   "execution_count": 131,
   "metadata": {},
   "outputs": [
    {
     "data": {
      "text/plain": [
       "430462.65340271476"
      ]
     },
     "execution_count": 131,
     "metadata": {},
     "output_type": "execute_result"
    }
   ],
   "source": [
    "pd.Series(df_nycVar).var()"
   ]
  },
  {
   "attachments": {},
   "cell_type": "markdown",
   "metadata": {},
   "source": [
    "Dari hasil tersebut dijelaskan bahwa nilai variance dari kolom LOT adalah 430462. Dimana variance merupakan penyebaran data dan seberapa jauh titik data dari Mean."
   ]
  },
  {
   "attachments": {},
   "cell_type": "markdown",
   "metadata": {},
   "source": [
    "### Measure of Spread: Standard Deviation"
   ]
  },
  {
   "attachments": {},
   "cell_type": "markdown",
   "metadata": {},
   "source": [
    "np.std adalah sebuah fungsi dari library Numpy. Dimana untuk mengukur persebaran data dari mean.\n",
    "\n",
    "Ouput dari data TAX CLASS AT TIME OF SALE adalah 0.7 dimana nilai rata rata tersebut cukup baik."
   ]
  },
  {
   "cell_type": "code",
   "execution_count": 132,
   "metadata": {},
   "outputs": [
    {
     "data": {
      "text/plain": [
       "0.7711617163591019"
      ]
     },
     "execution_count": 132,
     "metadata": {},
     "output_type": "execute_result"
    }
   ],
   "source": [
    "np.std(df_nyc['TAX CLASS AT TIME OF SALE'], ddof=1)"
   ]
  },
  {
   "attachments": {},
   "cell_type": "markdown",
   "metadata": {},
   "source": [
    "Perhitungan Standard Deviation menggunakan library Pandas"
   ]
  },
  {
   "cell_type": "code",
   "execution_count": 133,
   "metadata": {},
   "outputs": [
    {
     "data": {
      "text/plain": [
       "0.7711617163591019"
      ]
     },
     "execution_count": 133,
     "metadata": {},
     "output_type": "execute_result"
    }
   ],
   "source": [
    "df_nyc['TAX CLASS AT TIME OF SALE'].std()"
   ]
  },
  {
   "attachments": {},
   "cell_type": "markdown",
   "metadata": {},
   "source": [
    "### Probability Distribution"
   ]
  },
  {
   "attachments": {},
   "cell_type": "markdown",
   "metadata": {},
   "source": [
    "Pada Distribusi tersebut, digunakan variabel baru df_nycSale untuk mengganti type data int64 agar bisa dihitung"
   ]
  },
  {
   "cell_type": "code",
   "execution_count": 134,
   "metadata": {},
   "outputs": [
    {
     "data": {
      "text/plain": [
       "0         6625000\n",
       "3         3936272\n",
       "4         8000000\n",
       "6         3192840\n",
       "9        16232000\n",
       "           ...   \n",
       "84543      450000\n",
       "84544      550000\n",
       "84545      460000\n",
       "84546    11693337\n",
       "84547       69300\n",
       "Name: SALE PRICE, Length: 69987, dtype: int64"
      ]
     },
     "execution_count": 134,
     "metadata": {},
     "output_type": "execute_result"
    }
   ],
   "source": [
    "df_nycSale = df_nyc['SALE PRICE'].astype('int64')\n",
    "df_nycSale"
   ]
  },
  {
   "attachments": {},
   "cell_type": "markdown",
   "metadata": {},
   "source": [
    "Pada code dibawah, membangun grafik data menggunakan histogram. lalu ada perhitungan menggunakan skew."
   ]
  },
  {
   "cell_type": "code",
   "execution_count": 135,
   "metadata": {},
   "outputs": [
    {
     "data": {
      "image/png": "[encoded data removed]",
      "text/plain": [
       "<Figure size 640x480 with 1 Axes>"
      ]
     },
     "metadata": {},
     "output_type": "display_data"
    }
   ],
   "source": [
    "skew = df_nycSale.skew()\n",
    "\n",
    "plt.hist(df_nycSale,\n",
    "         bins=50,\n",
    "         color=\"red\")\n",
    "plt.title('Distribution of Sales Prices')\n",
    "plt.xlabel('Distribution')\n",
    "plt.ylabel('Price')\n",
    "\n",
    "plt.show()"
   ]
  },
  {
   "attachments": {},
   "cell_type": "markdown",
   "metadata": {},
   "source": [
    "Data tersebut sangat kontras pada kiri grafik dimana lonjakan tinggi daripada distributionnya"
   ]
  },
  {
   "cell_type": "code",
   "execution_count": 136,
   "metadata": {},
   "outputs": [
    {
     "name": "stderr",
     "output_type": "stream",
     "text": [
      "C:\\Users\\Fadli Putra\\AppData\\Local\\Temp\\ipykernel_1840\\652429789.py:1: UserWarning: \n",
      "\n",
      "`distplot` is a deprecated function and will be removed in seaborn v0.14.0.\n",
      "\n",
      "Please adapt your code to use either `displot` (a figure-level function with\n",
      "similar flexibility) or `histplot` (an axes-level function for histograms).\n",
      "\n",
      "For a guide to updating your code to use the new functions, please see\n",
      "https://gist.github.com/mwaskom/de44147ed2974457ad6372750bbe5751\n",
      "\n",
      "  sns.distplot(df_nycSale)\n"
     ]
    },
    {
     "data": {
      "image/png": "[encoded data removed]",
      "text/plain": [
       "<Figure size 640x480 with 1 Axes>"
      ]
     },
     "metadata": {},
     "output_type": "display_data"
    }
   ],
   "source": [
    "sns.distplot(df_nycSale)\n",
    "plt.title('Distribution of Sales Prices')\n",
    "plt.xlabel('Distribution')\n",
    "plt.ylabel('Frequency')\n",
    "plt.show()"
   ]
  },
  {
   "attachments": {},
   "cell_type": "markdown",
   "metadata": {},
   "source": [
    "Library seaborn menampilkan kepadatan data pada data sebelummnya dengan kombinasi lonjakan garis yang lonjakan dikiri dan panjang kekanan. Bisa ditarik kesimpulan bahwa data SALE PRICE adalah distribusi tidak normal"
   ]
  },
  {
   "cell_type": "code",
   "execution_count": 137,
   "metadata": {},
   "outputs": [
    {
     "data": {
      "text/plain": [
       "0          6\n",
       "3         21\n",
       "4         55\n",
       "6         32\n",
       "9        153\n",
       "        ... \n",
       "84543     34\n",
       "84544     78\n",
       "84545     60\n",
       "84546     28\n",
       "84547    679\n",
       "Name: LOT, Length: 69987, dtype: int64"
      ]
     },
     "execution_count": 137,
     "metadata": {},
     "output_type": "execute_result"
    }
   ],
   "source": [
    "df_nycLot = df_nyc['LOT'].astype('int64')\n",
    "df_nycLot"
   ]
  },
  {
   "attachments": {},
   "cell_type": "markdown",
   "metadata": {},
   "source": [
    "Pada Distribusi tersebut, digunakan variabel baru df_nycLot untuk mengganti type data int64 agar bisa dihitung"
   ]
  },
  {
   "cell_type": "code",
   "execution_count": 138,
   "metadata": {},
   "outputs": [
    {
     "name": "stderr",
     "output_type": "stream",
     "text": [
      "C:\\Users\\Fadli Putra\\AppData\\Local\\Temp\\ipykernel_1840\\2848801821.py:1: UserWarning: \n",
      "\n",
      "`distplot` is a deprecated function and will be removed in seaborn v0.14.0.\n",
      "\n",
      "Please adapt your code to use either `displot` (a figure-level function with\n",
      "similar flexibility) or `histplot` (an axes-level function for histograms).\n",
      "\n",
      "For a guide to updating your code to use the new functions, please see\n",
      "https://gist.github.com/mwaskom/de44147ed2974457ad6372750bbe5751\n",
      "\n",
      "  sns.distplot(df_nycLot)\n"
     ]
    },
    {
     "data": {
      "image/png": "[encoded data removed]",
      "text/plain": [
       "<Figure size 640x480 with 1 Axes>"
      ]
     },
     "metadata": {},
     "output_type": "display_data"
    }
   ],
   "source": [
    "sns.distplot(df_nycLot)\n",
    "plt.title('Distribution of Sales Prices')\n",
    "plt.xlabel('Distribution')\n",
    "plt.ylabel('Frequency')\n",
    "plt.show()"
   ]
  },
  {
   "attachments": {},
   "cell_type": "markdown",
   "metadata": {},
   "source": [
    "Library seaborn menampilkan kepadatan data pada data sebelummnya dengan kombinasi dua lonjakan garis yang lonjakan sebelah kiri dan kanan yang garis sisa lebih panjang kekanan. Bisa ditarik kesimpulan bahwa data LOT juga distribusi tidak normal"
   ]
  },
  {
   "attachments": {},
   "cell_type": "markdown",
   "metadata": {},
   "source": [
    "### Confidence Intervals"
   ]
  },
  {
   "attachments": {},
   "cell_type": "markdown",
   "metadata": {},
   "source": [
    "Pada kolom BOROUGH dilakukan pengelompokan dengan kolom tahun pembuatan property.\n",
    "Berikut penjelasan angka dari kolom BOROUGH:\n",
    "1. Manhattan = 1\n",
    "2. Bronx = 2\n",
    "3. Booklyn = 3\n",
    "4. Queens = 4\n",
    "5. Staten Island\n",
    "\n",
    "*Data tersebut merupakan re-search dari kaggle"
   ]
  },
  {
   "cell_type": "code",
   "execution_count": 139,
   "metadata": {},
   "outputs": [
    {
     "data": {
      "text/html": [
       "<div>\n",
       "<style scoped>\n",
       "    .dataframe tbody tr th:only-of-type {\n",
       "        vertical-align: middle;\n",
       "    }\n",
       "\n",
       "    .dataframe tbody tr th {\n",
       "        vertical-align: top;\n",
       "    }\n",
       "\n",
       "    .dataframe thead th {\n",
       "        text-align: right;\n",
       "    }\n",
       "</style>\n",
       "<table border=\"1\" class=\"dataframe\">\n",
       "  <thead>\n",
       "    <tr style=\"text-align: right;\">\n",
       "      <th></th>\n",
       "      <th></th>\n",
       "      <th>YEAR BUILT</th>\n",
       "    </tr>\n",
       "    <tr>\n",
       "      <th>BOROUGH</th>\n",
       "      <th>YEAR BUILT</th>\n",
       "      <th></th>\n",
       "    </tr>\n",
       "  </thead>\n",
       "  <tbody>\n",
       "    <tr>\n",
       "      <th rowspan=\"5\" valign=\"top\">1</th>\n",
       "      <th>0</th>\n",
       "      <td>1594</td>\n",
       "    </tr>\n",
       "    <tr>\n",
       "      <th>1111</th>\n",
       "      <td>1</td>\n",
       "    </tr>\n",
       "    <tr>\n",
       "      <th>1800</th>\n",
       "      <td>1</td>\n",
       "    </tr>\n",
       "    <tr>\n",
       "      <th>1846</th>\n",
       "      <td>1</td>\n",
       "    </tr>\n",
       "    <tr>\n",
       "      <th>1850</th>\n",
       "      <td>5</td>\n",
       "    </tr>\n",
       "    <tr>\n",
       "      <th>...</th>\n",
       "      <th>...</th>\n",
       "      <td>...</td>\n",
       "    </tr>\n",
       "    <tr>\n",
       "      <th rowspan=\"5\" valign=\"top\">5</th>\n",
       "      <th>2012</th>\n",
       "      <td>15</td>\n",
       "    </tr>\n",
       "    <tr>\n",
       "      <th>2013</th>\n",
       "      <td>8</td>\n",
       "    </tr>\n",
       "    <tr>\n",
       "      <th>2014</th>\n",
       "      <td>29</td>\n",
       "    </tr>\n",
       "    <tr>\n",
       "      <th>2015</th>\n",
       "      <td>186</td>\n",
       "    </tr>\n",
       "    <tr>\n",
       "      <th>2016</th>\n",
       "      <td>203</td>\n",
       "    </tr>\n",
       "  </tbody>\n",
       "</table>\n",
       "<p>615 rows × 1 columns</p>\n",
       "</div>"
      ],
      "text/plain": [
       "                    YEAR BUILT\n",
       "BOROUGH YEAR BUILT            \n",
       "1       0                 1594\n",
       "        1111                 1\n",
       "        1800                 1\n",
       "        1846                 1\n",
       "        1850                 5\n",
       "...                        ...\n",
       "5       2012                15\n",
       "        2013                 8\n",
       "        2014                29\n",
       "        2015               186\n",
       "        2016               203\n",
       "\n",
       "[615 rows x 1 columns]"
      ]
     },
     "execution_count": 139,
     "metadata": {},
     "output_type": "execute_result"
    }
   ],
   "source": [
    "df_nyc.groupby(['BOROUGH', 'YEAR BUILT'])[['YEAR BUILT']].count()"
   ]
  },
  {
   "attachments": {},
   "cell_type": "markdown",
   "metadata": {},
   "source": [
    "Value counts (2012-2016)"
   ]
  },
  {
   "cell_type": "code",
   "execution_count": 140,
   "metadata": {},
   "outputs": [
    {
     "data": {
      "text/plain": [
       "441"
      ]
     },
     "execution_count": 140,
     "metadata": {},
     "output_type": "execute_result"
    }
   ],
   "source": [
    "value = 15+8+29+186+203\n",
    "value"
   ]
  },
  {
   "attachments": {},
   "cell_type": "markdown",
   "metadata": {},
   "source": [
    "Mencari std error menggunakan rumus:"
   ]
  },
  {
   "cell_type": "code",
   "execution_count": 141,
   "metadata": {},
   "outputs": [
    {
     "name": "stdout",
     "output_type": "stream",
     "text": [
      "441\n",
      "0.4603174603174603\n"
     ]
    }
   ],
   "source": [
    "propor = 203/value\n",
    "print(value)\n",
    "print(propor)"
   ]
  },
  {
   "cell_type": "code",
   "execution_count": 142,
   "metadata": {},
   "outputs": [
    {
     "data": {
      "text/plain": [
       "0.023734419452921516"
      ]
     },
     "execution_count": 142,
     "metadata": {},
     "output_type": "execute_result"
    }
   ],
   "source": [
    "stderror = (propor*(1-propor)/value)**(1/2)\n",
    "stderror"
   ]
  },
  {
   "attachments": {},
   "cell_type": "markdown",
   "metadata": {},
   "source": [
    "pada Rumus tersebut terdapat hasil std error 0.023"
   ]
  },
  {
   "attachments": {},
   "cell_type": "markdown",
   "metadata": {},
   "source": [
    "Menentukan nilai lower dan upper dengan z_score"
   ]
  },
  {
   "cell_type": "code",
   "execution_count": 143,
   "metadata": {},
   "outputs": [
    {
     "name": "stdout",
     "output_type": "stream",
     "text": [
      "lower 0.4137979981897341\n",
      "upper 0.5068369224451864\n"
     ]
    }
   ],
   "source": [
    "z_score = 1.96\n",
    "\n",
    "low = propor - (z_score*stderror)\n",
    "up = propor + (z_score*stderror)\n",
    "\n",
    "print('lower',low)\n",
    "print('upper',up)"
   ]
  },
  {
   "attachments": {},
   "cell_type": "markdown",
   "metadata": {},
   "source": [
    "Z-score yang lebih besar dari 1.96 atau lebih kecil dari -1.96 pada distribusi normal standar menunjukkan bahwa suatu nilai memiliki signifikansi yang tinggi."
   ]
  },
  {
   "cell_type": "code",
   "execution_count": 144,
   "metadata": {},
   "outputs": [
    {
     "name": "stdout",
     "output_type": "stream",
     "text": [
      "Margin Error\n",
      " 0.04651946212772617\n"
     ]
    }
   ],
   "source": [
    "print('Margin Error\\n',(z_score*stderror))"
   ]
  },
  {
   "attachments": {},
   "cell_type": "markdown",
   "metadata": {},
   "source": [
    "Margin of error adalah ukuran yang menunjukkan seberapa akurat sampel dalam merepresentasikan populasi tertentu. Dalam kasus ini, margin of error yang diperoleh dari data adalah 0,0465. Semakin rendah nilai margin of error, semakin besar tingkat kepercayaan pada hasil yang dihasilkan, dan sebaliknya."
   ]
  },
  {
   "attachments": {},
   "cell_type": "markdown",
   "metadata": {},
   "source": [
    "### HYPOTHESIS TESTING"
   ]
  },
  {
   "cell_type": "code",
   "execution_count": 145,
   "metadata": {},
   "outputs": [
    {
     "data": {
      "text/plain": [
       "4"
      ]
     },
     "execution_count": 145,
     "metadata": {},
     "output_type": "execute_result"
    }
   ],
   "source": [
    "df_nyc['TAX CLASS AT TIME OF SALE'].nunique()"
   ]
  },
  {
   "cell_type": "code",
   "execution_count": 146,
   "metadata": {},
   "outputs": [
    {
     "data": {
      "text/plain": [
       "array([2, 4, 1, 3], dtype=int64)"
      ]
     },
     "execution_count": 146,
     "metadata": {},
     "output_type": "execute_result"
    }
   ],
   "source": [
    "df_nyc['TAX CLASS AT TIME OF SALE'].unique()"
   ]
  },
  {
   "attachments": {},
   "cell_type": "markdown",
   "metadata": {},
   "source": [
    "Pada kolom TAX CLASS AT TIME OF SALE memiliki 4 nilai unik dimana berikut penjelasan masing masing angka pada kolom TAX CLASS AT TIME OF SALE:\n",
    "\n",
    "1. 1 = 1 Properti\n",
    "2. 2 = Lebih dari 1 properti\n",
    "3. 3 = Properti bisnis\n",
    "4. 4 = Properti unik\n",
    "\n",
    "*Data tersebut merupakan re-search dari kaggle"
   ]
  },
  {
   "attachments": {},
   "cell_type": "markdown",
   "metadata": {},
   "source": [
    "### Hipotesis"
   ]
  },
  {
   "attachments": {},
   "cell_type": "markdown",
   "metadata": {},
   "source": [
    "Dalam uji ini, menguji apakah rata-rata harga jual (SALE PRICE) properti dengan tingkat pajak unik (Tax 3) lebih tinggi daripada rata-rata harga jual properti dengan tingkat pajak banyak (Tax 2).\n",
    "\n",
    "* n1: Rata-rata SALE PRICE properti dengan tingkat pajak unik (Tax 3) tidak lebih tinggi daripada rata-rata SALE PRICE properti dengan tingkat pajak banyak (Tax 2).\n",
    "\n",
    "* n0: Rata-rata SALE PRICE properti dengan tingkat pajak unik (Tax 3) lebih tinggi daripada rata-rata SALE PRICE properti dengan tingkat pajak banyak (Tax 2).\n",
    "\n",
    "\n",
    "Menggunakan one-tailed test karena n1 adalah rata-rata SALE PRICE untuk Tax 3 lebih tinggi dari Tax 2. Untuk memperjelas, dapat dituliskan:\n",
    "\n",
    "* n0: mean_tax3 - mean_tax2 <= 0\n",
    "* n1: mean_tax3 - mean_tax2 > 0"
   ]
  },
  {
   "cell_type": "code",
   "execution_count": 147,
   "metadata": {},
   "outputs": [],
   "source": [
    "tax3 = df_nyc[df_nyc['TAX CLASS AT TIME OF SALE']==3]\n",
    "tax2 = df_nyc[df_nyc['TAX CLASS AT TIME OF SALE']==2]"
   ]
  },
  {
   "cell_type": "code",
   "execution_count": 148,
   "metadata": {},
   "outputs": [
    {
     "name": "stdout",
     "output_type": "stream",
     "text": [
      "2\n",
      "0.0\n",
      "0.0\n"
     ]
    }
   ],
   "source": [
    "v_tax3 = len(tax3)\n",
    "mean_tax3 = tax3['SALE PRICE'].astype('float64').mean()\n",
    "std_tax3 = tax3['SALE PRICE'].astype('float64').std()\n",
    "print(v_tax3)\n",
    "print(mean_tax3)\n",
    "print(std_tax3)"
   ]
  },
  {
   "cell_type": "code",
   "execution_count": 149,
   "metadata": {},
   "outputs": [
    {
     "name": "stdout",
     "output_type": "stream",
     "text": [
      "32161\n",
      "1474632.8838033644\n",
      "5365669.501966393\n"
     ]
    }
   ],
   "source": [
    "v_tax2 = len(tax2)\n",
    "mean_tax2 = tax2['SALE PRICE'].astype('float64').mean()\n",
    "std_tax2 = tax2['SALE PRICE'].astype('float64').std()\n",
    "print(v_tax2)\n",
    "print(mean_tax2)\n",
    "print(std_tax2)"
   ]
  },
  {
   "attachments": {},
   "cell_type": "markdown",
   "metadata": {},
   "source": [
    "Confidence level = 95%"
   ]
  },
  {
   "cell_type": "code",
   "execution_count": 150,
   "metadata": {},
   "outputs": [],
   "source": [
    "alpha = 0.05"
   ]
  },
  {
   "cell_type": "code",
   "execution_count": 151,
   "metadata": {},
   "outputs": [
    {
     "data": {
      "text/plain": [
       "(-0.3886585641989188, 0.6512356309752758)"
      ]
     },
     "execution_count": 151,
     "metadata": {},
     "output_type": "execute_result"
    }
   ],
   "source": [
    "hipotesis_tax = sm.stats.ztest(tax3['SALE PRICE'].astype('float64').dropna(),tax2['SALE PRICE'].astype('float64').dropna(),alternative='larger')\n",
    "hipotesis_tax"
   ]
  },
  {
   "cell_type": "code",
   "execution_count": 152,
   "metadata": {},
   "outputs": [
    {
     "name": "stdout",
     "output_type": "stream",
     "text": [
      "confirm n0 : rata-rata SALE PRICE untuk Tax 3 tidak lebih tinggi daripada Tax 2\n"
     ]
    }
   ],
   "source": [
    "if hipotesis_tax[1]>alpha:\n",
    "    print('confirm n0 : rata-rata SALE PRICE untuk Tax 3 tidak lebih tinggi daripada Tax 2')\n",
    "else:\n",
    "    print('not accepted n0 : rata-rata SALE PRICE untuk Tax 3 lebih tinggi daripada Tax 2')"
   ]
  },
  {
   "attachments": {},
   "cell_type": "markdown",
   "metadata": {},
   "source": [
    "### Kesimpulan\n",
    "* Hasil hipotesis harga jual properti untuk tingkat pajak properti unik (Tax 3) tidak lebih tinggi daripada tingkat pajak banyak properti (Tax 2). \n",
    "* lalu, Tarif pajak properti yang dikenakan pada saat penjualan TAX CLASS AT TIME OF SALE dapat mempengaruhi harga jual properti SALE PRICE karena pajak yang lebih tinggi dapat mempengaruhi harga dari penjual property."
   ]
  }
 ],
 "metadata": {
  "kernelspec": {
   "display_name": "base",
   "language": "python",
   "name": "python3"
  },
  "language_info": {
   "codemirror_mode": {
    "name": "ipython",
    "version": 3
   },
   "file_extension": ".py",
   "mimetype": "text/x-python",
   "name": "python",
   "nbconvert_exporter": "python",
   "pygments_lexer": "ipython3",
   "version": "3.10.9"
  },
  "orig_nbformat": 4
 },
 "nbformat": 4,
 "nbformat_minor": 2
}
